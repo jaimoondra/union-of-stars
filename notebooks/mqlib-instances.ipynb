{
 "cells": [
  {
   "metadata": {},
   "cell_type": "markdown",
   "source": [
    "# Sparse union-of-stars on MQLib graphs\n",
    "\n",
    "All positive weighted graphs in MQLib with number of vertices $50 \\leq n < 200$ and number of edges $2n \\leq m < 2000$ were chosen for this experiment (taken from the config file). The data is stored in folder `data/MQLib_experiment_results`.\n"
   ],
   "id": "2eeb00e408506dde"
  },
  {
   "metadata": {},
   "cell_type": "code",
   "outputs": [],
   "execution_count": null,
   "source": [
    "import networkx as nx\n",
    "import numpy as np\n",
    "import matplotlib.pyplot as plt\n",
    "import yaml\n",
    "import os\n",
    "os.chdir(os.path.join('..'))          # Move to the top directory\n",
    "\n",
    "from src.mqlib_utils import MQLibInstance, metadata_df, run_experiment_for_multiple_instances"
   ],
   "id": "c436b884040ab71"
  },
  {
   "metadata": {},
   "cell_type": "markdown",
   "source": "## Run experiments on multiple graphs",
   "id": "2e44cb93bc059529"
  },
  {
   "metadata": {
    "ExecuteTime": {
     "end_time": "2025-08-02T11:14:18.404227Z",
     "start_time": "2025-08-02T11:14:18.391007Z"
    }
   },
   "cell_type": "code",
   "source": [
    "config_file = 'configs/examples/MQLib_multiple_instances.yaml'\n",
    "config = yaml.safe_load(open(config_file, 'r'))\n",
    "config"
   ],
   "id": "f3d68525f263d7a3",
   "outputs": [
    {
     "data": {
      "text/plain": [
       "{'instance_type': 'MQLib',\n",
       " 'weighted_only': True,\n",
       " 'min_vertices': 50,\n",
       " 'max_vertices': 199,\n",
       " 'min_edges': 100,\n",
       " 'max_edges': 1999,\n",
       " 'min_sparsity': 2,\n",
       " 'time_limit': 30,\n",
       " 'sparsification': [{'number_of_variants': 5},\n",
       "  {'q_values': [0.2, 0.5, 0.8, 1.0, 2.0]},\n",
       "  {'seeds': [0, 0, 0, 0, 0]}],\n",
       " 'decomposition': [{'number_of_variants': 15},\n",
       "  {'epsilon_values': [0.0,\n",
       "    0.1,\n",
       "    0.25,\n",
       "    0.5,\n",
       "    0.75,\n",
       "    1.0,\n",
       "    2.0,\n",
       "    5.0,\n",
       "    0.1,\n",
       "    0.25,\n",
       "    0.5,\n",
       "    0.75,\n",
       "    1.0,\n",
       "    2.0,\n",
       "    5.0]},\n",
       "  {'types': ['none',\n",
       "    'exponential',\n",
       "    'exponential',\n",
       "    'exponential',\n",
       "    'exponential',\n",
       "    'exponential',\n",
       "    'exponential',\n",
       "    'exponential',\n",
       "    'binary',\n",
       "    'binary',\n",
       "    'binary',\n",
       "    'binary',\n",
       "    'binary',\n",
       "    'binary',\n",
       "    'binary']}],\n",
       " 'save_location': 'data/MQLib_experiment_results'}"
      ]
     },
     "execution_count": 5,
     "metadata": {},
     "output_type": "execute_result"
    }
   ],
   "execution_count": 5
  },
  {
   "metadata": {
    "ExecuteTime": {
     "end_time": "2025-08-02T22:42:33.000979Z",
     "start_time": "2025-08-02T11:16:29.395085Z"
    }
   },
   "cell_type": "code",
   "source": [
    "results = run_experiment_for_multiple_instances(\n",
    "    config=config, save=True, show_progress=True\n",
    ")"
   ],
   "id": "c760a06b6e0b9b14",
   "outputs": [
    {
     "name": "stderr",
     "output_type": "stream",
     "text": [
      "100%|██████████| 194/194 [11:26:03<00:00, 212.18s/it]  \n"
     ]
    }
   ],
   "execution_count": 6
  },
  {
   "metadata": {},
   "cell_type": "code",
   "outputs": [],
   "execution_count": null,
   "source": "",
   "id": "411923fd1c156048"
  }
 ],
 "metadata": {
  "kernelspec": {
   "display_name": "Python 3",
   "language": "python",
   "name": "python3"
  },
  "language_info": {
   "codemirror_mode": {
    "name": "ipython",
    "version": 2
   },
   "file_extension": ".py",
   "mimetype": "text/x-python",
   "name": "python",
   "nbconvert_exporter": "python",
   "pygments_lexer": "ipython2",
   "version": "2.7.6"
  }
 },
 "nbformat": 4,
 "nbformat_minor": 5
}
