{
 "cells": [
  {
   "cell_type": "code",
   "id": "initial_id",
   "metadata": {
    "collapsed": true,
    "ExecuteTime": {
     "end_time": "2025-08-03T18:47:58.932846Z",
     "start_time": "2025-08-03T18:47:57.581873Z"
    }
   },
   "source": [
    "import networkx as nx\n",
    "import numpy as np\n",
    "import matplotlib.pyplot as plt\n",
    "import yaml\n",
    "import os\n",
    "os.chdir(os.path.join('..', '..'))          # Move to the top directory\n",
    "\n",
    "from src.mqlib_utils import MQLibInstance, metadata_df, run_experiment_for_multiple_instances"
   ],
   "outputs": [],
   "execution_count": 1
  },
  {
   "metadata": {},
   "cell_type": "markdown",
   "source": "## Load instance",
   "id": "5c304a67cc22e9f3"
  },
  {
   "metadata": {
    "ExecuteTime": {
     "end_time": "2025-08-03T18:47:59.585294Z",
     "start_time": "2025-08-03T18:47:59.571839Z"
    }
   },
   "cell_type": "code",
   "source": [
    "instance_name = 'g000048'\n",
    "instance = MQLibInstance(instance_name=instance_name, save=True)\n",
    "\n",
    "instance.graph.number_of_nodes(), instance.graph.number_of_edges()"
   ],
   "id": "99612708bff82cbc",
   "outputs": [
    {
     "data": {
      "text/plain": [
       "(640, 1280)"
      ]
     },
     "execution_count": 2,
     "metadata": {},
     "output_type": "execute_result"
    }
   ],
   "execution_count": 2
  },
  {
   "metadata": {
    "ExecuteTime": {
     "end_time": "2025-08-03T18:48:01.376232Z",
     "start_time": "2025-08-03T18:47:59.928971Z"
    }
   },
   "cell_type": "code",
   "source": [
    "compilation = instance.run_single_experiment(\n",
    "    q_sparsification=0.3, seed_sparsification=0, epsilon_decomposition=0.1,\n",
    "    decomposition_type='exponential'\n",
    ")\n",
    "compilation"
   ],
   "id": "7258d8af48757b87",
   "outputs": [
    {
     "data": {
      "text/plain": [
       "MQLibInstanceExperimentRunOutput(metadata=MQLibInstanceMetadata(instance_name='g000048', number_of_vertices=640, number_of_edges=1280, is_positive_weighted=True, max_weight=311.0, min_weight=85.0, aspect_ratio=3.6588235294117646, number_of_unique_weights=78, max_cut_upper_bound=nan, known_cut_value=nan, max_cut_gap=nan, known_cut=nan), graph=Number of pulses: 976, Length of pulses: 189990.357464163, Number of bit flips: 1306, type='Sparse + Decomposed', epsilon_decomposition=0.1, decomposition_type='exponential', number_of_pulses=976, length_of_pulses=189990.357464163, number_of_bit_flips=1306, q_sparsification=0.3, seed_sparsification=0, epsilon_sparsification=None, frac_edges_sparsification=None, max_cut_approximation=nan)"
      ]
     },
     "execution_count": 3,
     "metadata": {},
     "output_type": "execute_result"
    }
   ],
   "execution_count": 3
  },
  {
   "metadata": {},
   "cell_type": "markdown",
   "source": "## Run example experiment",
   "id": "782f175b863949bb"
  },
  {
   "metadata": {
    "ExecuteTime": {
     "end_time": "2025-08-03T22:52:38.906232Z",
     "start_time": "2025-08-03T22:52:38.901396Z"
    }
   },
   "cell_type": "code",
   "source": [
    "config_file = 'configs/examples/MQLib_single_instance.yaml'\n",
    "config = yaml.safe_load(open(config_file, 'r'))\n",
    "config"
   ],
   "id": "f344174b3831f466",
   "outputs": [
    {
     "data": {
      "text/plain": [
       "{'instance_type': 'MQLib',\n",
       " 'sparsification': [{'number_of_variants': 2},\n",
       "  {'q_values': [0.2, 0.5]},\n",
       "  {'seeds': [0, 0]}],\n",
       " 'decomposition': [{'number_of_variants': 3},\n",
       "  {'epsilon_values': [0.2, 1.0, 5.0]},\n",
       "  {'types': ['exponential', 'best', 'none']}],\n",
       " 'save_location': 'data/MQLib_experiment_results'}"
      ]
     },
     "execution_count": 14,
     "metadata": {},
     "output_type": "execute_result"
    }
   ],
   "execution_count": 14
  },
  {
   "metadata": {
    "ExecuteTime": {
     "end_time": "2025-08-03T22:52:39.406148Z",
     "start_time": "2025-08-03T22:52:39.399497Z"
    }
   },
   "cell_type": "code",
   "source": [
    "results = instance.run_multiple_experiments(\n",
    "    config=config, save=True\n",
    ")   # Saved in `data/MQLib_experiment_results/g000048.csv`\n",
    "len(results)"
   ],
   "id": "591ef7997353d210",
   "outputs": [
    {
     "data": {
      "text/plain": [
       "11"
      ]
     },
     "execution_count": 15,
     "metadata": {},
     "output_type": "execute_result"
    }
   ],
   "execution_count": 15
  },
  {
   "metadata": {},
   "cell_type": "code",
   "outputs": [],
   "execution_count": null,
   "source": "",
   "id": "bec07786915366cb"
  }
 ],
 "metadata": {
  "kernelspec": {
   "display_name": "Python 3",
   "language": "python",
   "name": "python3"
  },
  "language_info": {
   "codemirror_mode": {
    "name": "ipython",
    "version": 2
   },
   "file_extension": ".py",
   "mimetype": "text/x-python",
   "name": "python",
   "nbconvert_exporter": "python",
   "pygments_lexer": "ipython2",
   "version": "2.7.6"
  }
 },
 "nbformat": 4,
 "nbformat_minor": 5
}
