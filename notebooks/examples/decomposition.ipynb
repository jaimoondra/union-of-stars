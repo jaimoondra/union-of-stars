{
 "cells": [
  {
   "cell_type": "code",
   "id": "initial_id",
   "metadata": {
    "collapsed": true,
    "ExecuteTime": {
     "end_time": "2025-04-10T22:17:42.369753Z",
     "start_time": "2025-04-10T22:17:41.915136Z"
    }
   },
   "source": [
    "import networkx as nx\n",
    "import numpy as np\n",
    "import matplotlib.pyplot as plt\n",
    "from src.decomposition import BinaryDecomposition, ExponentialDecomposition"
   ],
   "outputs": [],
   "execution_count": 1
  },
  {
   "metadata": {},
   "cell_type": "markdown",
   "source": [
    "# Graph Decomposition\n",
    "\n",
    "See the paper https://arxiv.org/abs/2406.14330"
   ],
   "id": "f6575d50f46d22c4"
  },
  {
   "metadata": {
    "ExecuteTime": {
     "end_time": "2025-04-10T22:17:43.532680Z",
     "start_time": "2025-04-10T22:17:43.530149Z"
    }
   },
   "cell_type": "code",
   "source": "# Create a random weighted graph for illustration",
   "id": "5437cbe16b20cc75",
   "outputs": [],
   "execution_count": 2
  },
  {
   "metadata": {
    "ExecuteTime": {
     "end_time": "2025-04-10T22:18:23.756184Z",
     "start_time": "2025-04-10T22:18:23.533006Z"
    }
   },
   "cell_type": "code",
   "source": [
    "n = 1000\n",
    "p = 0.3\n",
    "\n",
    "G = nx.erdos_renyi_graph(n, p)\n",
    "\n",
    "# Add random weights to the edges\n",
    "for (u, v) in G.edges():\n",
    "    G.edges[u, v]['weight'] = np.exp(1 + np.random.rand())\n",
    "    \n",
    "G.number_of_edges()"
   ],
   "id": "673e4845866cf5ba",
   "outputs": [
    {
     "data": {
      "text/plain": [
       "149691"
      ]
     },
     "execution_count": 6,
     "metadata": {},
     "output_type": "execute_result"
    }
   ],
   "execution_count": 6
  },
  {
   "metadata": {},
   "cell_type": "markdown",
   "source": "## Binary Decomposition",
   "id": "990f848f2a4575fb"
  },
  {
   "metadata": {
    "ExecuteTime": {
     "end_time": "2025-04-10T22:20:13.669282Z",
     "start_time": "2025-04-10T22:20:09.720161Z"
    }
   },
   "cell_type": "code",
   "source": [
    "epsilon = 0.25                                                   # Decomposition parameter\n",
    "bin_decomp = BinaryDecomposition(graph=G, epsilon=epsilon)      # Decomposition object"
   ],
   "id": "f0099b623845ca38",
   "outputs": [],
   "execution_count": 9
  },
  {
   "metadata": {
    "ExecuteTime": {
     "end_time": "2025-04-10T22:20:14.294964Z",
     "start_time": "2025-04-10T22:20:14.277648Z"
    }
   },
   "cell_type": "code",
   "source": [
    "# The decomposition results in a set of subgraphs called constituent graphs, each with a coefficient, so that\n",
    "# G = sum_i coeff_i * constituent_graph_i\n",
    "\n",
    "N = len(bin_decomp.constituent_graphs)  # Number of constituent graphs\n",
    "\n",
    "for i in range(N):\n",
    "    constituent_graph = bin_decomp.constituent_graphs[i]\n",
    "    coeff = bin_decomp.constituent_coefficients[i]\n",
    "    \n",
    "    print(f\"Constituent graph {i}:\")\n",
    "    print(f\"Number of edges: {constituent_graph.number_of_edges()}\")\n",
    "    print(f\"Coefficient: {coeff}\")\n",
    "    print()\n",
    "    "
   ],
   "id": "6992ef7b0283ecc8",
   "outputs": [
    {
     "name": "stdout",
     "output_type": "stream",
     "text": [
      "Constituent graph 0:\n",
      "Number of edges: 75192\n",
      "Coefficient: 1.847252804211017e-06\n",
      "\n",
      "Constituent graph 1:\n",
      "Number of edges: 74653\n",
      "Coefficient: 3.694505608422034e-06\n",
      "\n",
      "Constituent graph 2:\n",
      "Number of edges: 74948\n",
      "Coefficient: 7.389011216844068e-06\n",
      "\n",
      "Constituent graph 3:\n",
      "Number of edges: 74796\n",
      "Coefficient: 1.4778022433688137e-05\n",
      "\n",
      "Constituent graph 4:\n",
      "Number of edges: 74677\n",
      "Coefficient: 2.9556044867376273e-05\n",
      "\n",
      "Constituent graph 5:\n",
      "Number of edges: 74815\n",
      "Coefficient: 5.9112089734752546e-05\n",
      "\n",
      "Constituent graph 6:\n",
      "Number of edges: 74533\n",
      "Coefficient: 0.00011822417946950509\n",
      "\n",
      "Constituent graph 7:\n",
      "Number of edges: 74623\n",
      "Coefficient: 0.00023644835893901018\n",
      "\n",
      "Constituent graph 8:\n",
      "Number of edges: 74708\n",
      "Coefficient: 0.00047289671787802037\n",
      "\n",
      "Constituent graph 9:\n",
      "Number of edges: 74688\n",
      "Coefficient: 0.0009457934357560407\n",
      "\n",
      "Constituent graph 10:\n",
      "Number of edges: 74891\n",
      "Coefficient: 0.0018915868715120815\n",
      "\n",
      "Constituent graph 11:\n",
      "Number of edges: 74944\n",
      "Coefficient: 0.003783173743024163\n",
      "\n",
      "Constituent graph 12:\n",
      "Number of edges: 75054\n",
      "Coefficient: 0.007566347486048326\n",
      "\n",
      "Constituent graph 13:\n",
      "Number of edges: 74541\n",
      "Coefficient: 0.015132694972096652\n",
      "\n",
      "Constituent graph 14:\n",
      "Number of edges: 74727\n",
      "Coefficient: 0.030265389944193304\n",
      "\n",
      "Constituent graph 15:\n",
      "Number of edges: 75754\n",
      "Coefficient: 0.06053077988838661\n",
      "\n",
      "Constituent graph 16:\n",
      "Number of edges: 74123\n",
      "Coefficient: 0.12106155977677321\n",
      "\n",
      "Constituent graph 17:\n",
      "Number of edges: 76499\n",
      "Coefficient: 0.24212311955354643\n",
      "\n",
      "Constituent graph 18:\n",
      "Number of edges: 72312\n",
      "Coefficient: 0.48424623910709286\n",
      "\n",
      "Constituent graph 19:\n",
      "Number of edges: 83133\n",
      "Coefficient: 0.9684924782141857\n",
      "\n",
      "Constituent graph 20:\n",
      "Number of edges: 89003\n",
      "Coefficient: 1.9369849564283714\n",
      "\n",
      "Constituent graph 21:\n",
      "Number of edges: 96767\n",
      "Coefficient: 3.873969912856743\n",
      "\n"
     ]
    }
   ],
   "execution_count": 10
  },
  {
   "metadata": {},
   "cell_type": "markdown",
   "source": "## Exponential Decomposition",
   "id": "d29d4f8708ae2093"
  },
  {
   "metadata": {
    "ExecuteTime": {
     "end_time": "2025-04-10T22:21:24.944938Z",
     "start_time": "2025-04-10T22:21:24.642783Z"
    }
   },
   "cell_type": "code",
   "source": [
    "epsilon = 0.25                                                   # Decomposition parameter\n",
    "exp_decomp = ExponentialDecomposition(graph=G, epsilon=epsilon)      # Decomposition object"
   ],
   "id": "73bfcf1300c35a0f",
   "outputs": [],
   "execution_count": 13
  },
  {
   "metadata": {
    "ExecuteTime": {
     "end_time": "2025-04-10T22:21:25.544172Z",
     "start_time": "2025-04-10T22:21:25.534209Z"
    }
   },
   "cell_type": "code",
   "source": [
    "# The decomposition results in a set of subgraphs called constituent graphs, each with a coefficient, so that\n",
    "# G = sum_i coeff_i * constituent_graph_i\n",
    "\n",
    "N = len(exp_decomp.constituent_graphs)  # Number of constituent graphs\n",
    "\n",
    "for i in range(N):\n",
    "    constituent_graph = exp_decomp.constituent_graphs[i]\n",
    "    coeff = exp_decomp.constituent_coefficients[i]\n",
    "\n",
    "    print(f\"Constituent graph {i}:\")\n",
    "    print(f\"Number of edges: {constituent_graph.number_of_edges()}\")\n",
    "    print(f\"Coefficient: {coeff}\")\n",
    "    print()\n",
    "    "
   ],
   "id": "395460eaaeaec064",
   "outputs": [
    {
     "name": "stdout",
     "output_type": "stream",
     "text": [
      "Constituent graph 0:\n",
      "Number of edges: 9414\n",
      "Coefficient: 2.5746260979988924\n",
      "\n",
      "Constituent graph 1:\n",
      "Number of edges: 17625\n",
      "Coefficient: 2.8964543602487542\n",
      "\n",
      "Constituent graph 2:\n",
      "Number of edges: 17697\n",
      "Coefficient: 3.258511155279848\n",
      "\n",
      "Constituent graph 3:\n",
      "Number of edges: 17630\n",
      "Coefficient: 3.6658250496898295\n",
      "\n",
      "Constituent graph 4:\n",
      "Number of edges: 17660\n",
      "Coefficient: 4.124053180901058\n",
      "\n",
      "Constituent graph 5:\n",
      "Number of edges: 17564\n",
      "Coefficient: 4.639559828513691\n",
      "\n",
      "Constituent graph 6:\n",
      "Number of edges: 17619\n",
      "Coefficient: 5.219504807077901\n",
      "\n",
      "Constituent graph 7:\n",
      "Number of edges: 17696\n",
      "Coefficient: 5.871942907962639\n",
      "\n",
      "Constituent graph 8:\n",
      "Number of edges: 16786\n",
      "Coefficient: 6.605935771457969\n",
      "\n"
     ]
    }
   ],
   "execution_count": 14
  },
  {
   "metadata": {},
   "cell_type": "code",
   "outputs": [],
   "execution_count": null,
   "source": "",
   "id": "1e34b8cbcbc01e8d"
  }
 ],
 "metadata": {
  "kernelspec": {
   "display_name": "Python 3",
   "language": "python",
   "name": "python3"
  },
  "language_info": {
   "codemirror_mode": {
    "name": "ipython",
    "version": 2
   },
   "file_extension": ".py",
   "mimetype": "text/x-python",
   "name": "python",
   "nbconvert_exporter": "python",
   "pygments_lexer": "ipython2",
   "version": "2.7.6"
  }
 },
 "nbformat": 4,
 "nbformat_minor": 5
}
