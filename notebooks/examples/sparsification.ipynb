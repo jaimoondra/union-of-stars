{
 "cells": [
  {
   "cell_type": "code",
   "id": "initial_id",
   "metadata": {
    "collapsed": true,
    "ExecuteTime": {
     "end_time": "2025-04-10T22:07:17.118676Z",
     "start_time": "2025-04-10T22:07:17.114984Z"
    }
   },
   "source": [
    "import networkx as nx\n",
    "import numpy as np\n",
    "import matplotlib.pyplot as plt\n",
    "from src.sparsification import graph_sparsification_by_effective_resistances"
   ],
   "outputs": [],
   "execution_count": 4
  },
  {
   "metadata": {},
   "cell_type": "markdown",
   "source": [
    "# Graph Sparsification by Effective Resistances\n",
    "\n",
    "Algorithm by Daniel A. Spielman and Nikhil Srivastava, 2008. https://arxiv.org/abs/0803.0929"
   ],
   "id": "dae0581aded1824"
  },
  {
   "metadata": {
    "ExecuteTime": {
     "end_time": "2025-04-10T22:08:32.114753Z",
     "start_time": "2025-04-10T22:08:31.955161Z"
    }
   },
   "cell_type": "code",
   "source": [
    "# Create a random graph for illustration\n",
    "# Can be weighted or unweighted\n",
    "\n",
    "n = 1000\n",
    "p = 0.5\n",
    "G = nx.erdos_renyi_graph(n, p)\n",
    "\n",
    "G.number_of_nodes(), G.number_of_edges()"
   ],
   "id": "47a822ebe193c99c",
   "outputs": [
    {
     "data": {
      "text/plain": [
       "(1000, 250217)"
      ]
     },
     "execution_count": 6,
     "metadata": {},
     "output_type": "execute_result"
    }
   ],
   "execution_count": 6
  },
  {
   "metadata": {
    "ExecuteTime": {
     "end_time": "2025-04-10T22:08:42.828067Z",
     "start_time": "2025-04-10T22:08:40.418350Z"
    }
   },
   "cell_type": "code",
   "source": [
    "# Sparsification by epsilon: the error tolerance parameter\n",
    "# Number of edges in sparsified graph = O(n * log(n) / epsilon^2)\n",
    "\n",
    "epsilon = 0.5\n",
    "H = graph_sparsification_by_effective_resistances(G=G, epsilon=epsilon)\n",
    "\n",
    "H.number_of_nodes(), H.number_of_edges()"
   ],
   "id": "d57df2094a656eb9",
   "outputs": [
    {
     "data": {
      "text/plain": [
       "(1000, 55020)"
      ]
     },
     "execution_count": 7,
     "metadata": {},
     "output_type": "execute_result"
    }
   ],
   "execution_count": 7
  },
  {
   "metadata": {
    "ExecuteTime": {
     "end_time": "2025-04-10T22:09:25.416551Z",
     "start_time": "2025-04-10T22:09:23.104047Z"
    }
   },
   "cell_type": "code",
   "source": [
    "# Sparsification by frac_edges: the fraction of edges that must be preserved\n",
    "# Number of edges in sparsified graph = frac_edges * number of edges in original graph\n",
    "\n",
    "frac_edges = 0.3\n",
    "H = graph_sparsification_by_effective_resistances(G=G, frac_edges=frac_edges)\n",
    "\n",
    "H.number_of_nodes(), H.number_of_edges()"
   ],
   "id": "9a98ae018a5d657c",
   "outputs": [
    {
     "data": {
      "text/plain": [
       "(1000, 64681)"
      ]
     },
     "execution_count": 8,
     "metadata": {},
     "output_type": "execute_result"
    }
   ],
   "execution_count": 8
  },
  {
   "metadata": {},
   "cell_type": "markdown",
   "source": "",
   "id": "d1010ad0340d5800"
  },
  {
   "metadata": {
    "ExecuteTime": {
     "end_time": "2025-04-10T22:10:49.068697Z",
     "start_time": "2025-04-10T22:10:46.803258Z"
    }
   },
   "cell_type": "code",
   "source": [
    "# Sparsification by q: the number of edges sampled in the algorithm\n",
    "# Note that the number of edges in sparsified graph will be smaller than q since some of the q sampled edges are duplicates\n",
    "\n",
    "q = 50000\n",
    "H = graph_sparsification_by_effective_resistances(G=G, q=q)\n",
    "\n",
    "H.number_of_nodes(), H.number_of_edges()"
   ],
   "id": "7a61ad8ababc97bf",
   "outputs": [
    {
     "data": {
      "text/plain": [
       "(1000, 45317)"
      ]
     },
     "execution_count": 10,
     "metadata": {},
     "output_type": "execute_result"
    }
   ],
   "execution_count": 10
  },
  {
   "metadata": {},
   "cell_type": "code",
   "outputs": [],
   "execution_count": null,
   "source": "",
   "id": "f7eaaec92485d50e"
  }
 ],
 "metadata": {
  "kernelspec": {
   "display_name": "Python 3",
   "language": "python",
   "name": "python3"
  },
  "language_info": {
   "codemirror_mode": {
    "name": "ipython",
    "version": 2
   },
   "file_extension": ".py",
   "mimetype": "text/x-python",
   "name": "python",
   "nbconvert_exporter": "python",
   "pygments_lexer": "ipython2",
   "version": "2.7.6"
  }
 },
 "nbformat": 4,
 "nbformat_minor": 5
}
