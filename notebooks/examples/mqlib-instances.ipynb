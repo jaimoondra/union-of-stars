{
 "cells": [
  {
   "cell_type": "code",
   "id": "initial_id",
   "metadata": {
    "collapsed": true,
    "ExecuteTime": {
     "end_time": "2025-04-11T02:37:41.344104Z",
     "start_time": "2025-04-11T02:37:40.280887Z"
    }
   },
   "source": [
    "import networkx as nx\n",
    "import numpy as np\n",
    "import matplotlib.pyplot as plt\n",
    "import yaml\n",
    "import os\n",
    "os.chdir(os.path.join('..', '..'))          # Move to the top directory\n",
    "\n",
    "from src.mqlib_utils import MQLibInstance, metadata_df, run_experiment_for_multiple_instances"
   ],
   "outputs": [],
   "execution_count": 1
  },
  {
   "metadata": {},
   "cell_type": "markdown",
   "source": "# Load MQLib Instance ",
   "id": "df8bedcf86881fa8"
  },
  {
   "metadata": {
    "ExecuteTime": {
     "end_time": "2025-04-11T02:37:42.428380Z",
     "start_time": "2025-04-11T02:37:42.055888Z"
    }
   },
   "cell_type": "code",
   "source": [
    "instance_name = 'g000048'\n",
    "instance = MQLibInstance(instance_name=instance_name, save=True)\n",
    "\n",
    "instance.graph.number_of_nodes(), instance.graph.number_of_edges()"
   ],
   "id": "e60d5d2a3be151d",
   "outputs": [
    {
     "data": {
      "text/plain": [
       "(640, 1280)"
      ]
     },
     "execution_count": 2,
     "metadata": {},
     "output_type": "execute_result"
    }
   ],
   "execution_count": 2
  },
  {
   "metadata": {
    "ExecuteTime": {
     "end_time": "2025-04-11T02:37:44.743577Z",
     "start_time": "2025-04-11T02:37:43.369973Z"
    }
   },
   "cell_type": "code",
   "source": [
    "compilation = instance.run_single_experiment(\n",
    "    q_sparsification=0.3, seed_sparsification=0, epsilon_decomposition=0.1,\n",
    "    decomposition_type='exponential'\n",
    ")"
   ],
   "id": "391a7eeff2ff80ea",
   "outputs": [],
   "execution_count": 3
  },
  {
   "metadata": {},
   "cell_type": "markdown",
   "source": "## Run example experiment",
   "id": "f2ad088c47948df1"
  },
  {
   "metadata": {
    "ExecuteTime": {
     "end_time": "2025-04-11T02:37:45.854233Z",
     "start_time": "2025-04-11T02:37:45.849503Z"
    }
   },
   "cell_type": "code",
   "source": [
    "config_file = 'configs/examples/MQLib_single_instance.yaml'\n",
    "config = yaml.safe_load(open(config_file, 'r'))\n",
    "config"
   ],
   "id": "f130441ff11a33c9",
   "outputs": [
    {
     "data": {
      "text/plain": [
       "{'instance_type': 'MQLib',\n",
       " 'sparsification': [{'number_of_variants': 2},\n",
       "  {'q_values': [0.2, 0.5]},\n",
       "  {'seeds': [0, 0]}],\n",
       " 'decomposition': [{'number_of_variants': 3},\n",
       "  {'epsilon_values': [0.2, 1.0, 5.0]},\n",
       "  {'types': ['exponential', 'best', 'none']}],\n",
       " 'save_location': 'data/MQLib_experiment_results'}"
      ]
     },
     "execution_count": 4,
     "metadata": {},
     "output_type": "execute_result"
    }
   ],
   "execution_count": 4
  },
  {
   "metadata": {
    "ExecuteTime": {
     "end_time": "2025-04-11T02:41:12.674661Z",
     "start_time": "2025-04-11T02:37:46.656637Z"
    }
   },
   "cell_type": "code",
   "source": [
    "results = instance.run_multiple_experiments(\n",
    "    config=config, save=True\n",
    ")\n",
    "len(results)"
   ],
   "id": "695f3401e7786df",
   "outputs": [
    {
     "name": "stdout",
     "output_type": "stream",
     "text": [
      "Set parameter Username\n",
      "Academic license - for non-commercial use only - expires 2025-05-27\n"
     ]
    },
    {
     "data": {
      "text/plain": [
       "7"
      ]
     },
     "execution_count": 5,
     "metadata": {},
     "output_type": "execute_result"
    }
   ],
   "execution_count": 5
  },
  {
   "metadata": {},
   "cell_type": "markdown",
   "source": "## Run experiments on multiple graphs",
   "id": "2e44cb93bc059529"
  },
  {
   "metadata": {
    "ExecuteTime": {
     "end_time": "2025-04-11T02:34:29.618640Z",
     "start_time": "2025-04-11T02:34:29.605970Z"
    }
   },
   "cell_type": "code",
   "source": [
    "config_file = 'configs/examples/MQLib_multiple_instances.yaml'\n",
    "config = yaml.safe_load(open(config_file, 'r'))\n",
    "config"
   ],
   "id": "f3d68525f263d7a3",
   "outputs": [
    {
     "data": {
      "text/plain": [
       "{'instance_type': 'MQLib',\n",
       " 'weighted_only': True,\n",
       " 'min_vertices': 5,\n",
       " 'max_vertices': 10,\n",
       " 'min_edges': 10,\n",
       " 'max_edges': 40,\n",
       " 'min_sparsity': 2,\n",
       " 'time_limit': 30,\n",
       " 'sparsification': [{'number_of_variants': 5},\n",
       "  {'q_values': [0.2, 0.5, 0.8, 1.0, 2.0]},\n",
       "  {'seeds': [0, 0, 0, 0, 0]}],\n",
       " 'decomposition': [{'number_of_variants': 15},\n",
       "  {'epsilon_values': [0.0,\n",
       "    0.1,\n",
       "    0.25,\n",
       "    0.5,\n",
       "    0.75,\n",
       "    1.0,\n",
       "    2.0,\n",
       "    5.0,\n",
       "    0.1,\n",
       "    0.25,\n",
       "    0.5,\n",
       "    0.75,\n",
       "    1.0,\n",
       "    2.0,\n",
       "    5.0]},\n",
       "  {'types': ['none',\n",
       "    'exponential',\n",
       "    'exponential',\n",
       "    'exponential',\n",
       "    'exponential',\n",
       "    'exponential',\n",
       "    'exponential',\n",
       "    'exponential',\n",
       "    'binary',\n",
       "    'binary',\n",
       "    'binary',\n",
       "    'binary',\n",
       "    'binary',\n",
       "    'binary',\n",
       "    'binary']}],\n",
       " 'save_location': 'data/MQLib_experiment_results'}"
      ]
     },
     "execution_count": 3,
     "metadata": {},
     "output_type": "execute_result"
    }
   ],
   "execution_count": 3
  },
  {
   "metadata": {
    "ExecuteTime": {
     "end_time": "2025-04-11T02:34:38.945356Z",
     "start_time": "2025-04-11T02:34:36.501199Z"
    }
   },
   "cell_type": "code",
   "source": [
    "results = run_experiment_for_multiple_instances(\n",
    "    config=config, save=True, show_progress=True\n",
    ")"
   ],
   "id": "c760a06b6e0b9b14",
   "outputs": [
    {
     "name": "stderr",
     "output_type": "stream",
     "text": [
      "100%|██████████| 13/13 [00:02<00:00,  5.34it/s]\n"
     ]
    }
   ],
   "execution_count": 5
  },
  {
   "metadata": {},
   "cell_type": "code",
   "outputs": [],
   "execution_count": null,
   "source": "",
   "id": "411923fd1c156048"
  }
 ],
 "metadata": {
  "kernelspec": {
   "display_name": "Python 3",
   "language": "python",
   "name": "python3"
  },
  "language_info": {
   "codemirror_mode": {
    "name": "ipython",
    "version": 2
   },
   "file_extension": ".py",
   "mimetype": "text/x-python",
   "name": "python",
   "nbconvert_exporter": "python",
   "pygments_lexer": "ipython2",
   "version": "2.7.6"
  }
 },
 "nbformat": 4,
 "nbformat_minor": 5
}
